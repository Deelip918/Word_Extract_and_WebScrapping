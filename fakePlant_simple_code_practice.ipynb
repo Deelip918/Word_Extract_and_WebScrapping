{
 "cells": [
  {
   "cell_type": "code",
   "execution_count": 21,
   "id": "db11af25",
   "metadata": {},
   "outputs": [],
   "source": [
    "var=['https://www.fake-plants.co.uk/product-category/fake-yucca-plants/',\n",
    " 'https://www.fake-plants.co.uk/product-category/fake-pyramid-trees/',\n",
    " 'https://www.fake-plants.co.uk/product-category/fake-sansevieria-plant/',\n",
    " 'https://www.fake-plants.co.uk/product-category/fake-spiral-trees/',\n",
    " 'https://www.fake-plants.co.uk/product-category/fake-strelitzia-plant/',\n",
    " 'https://www.fake-plants.co.uk/product-category/fake-taro-trees/','https://www.fake-plants.co.uk/product-category/fake-tongue-plant/',\n",
    "         'https://www.fake-plants.co.uk/product-category/fake-strelitzia-plant/', 'https://www.fake-plants.co.uk/product-category/fake-sansevieria-plant/', 'https://www.fake-plants.co.uk/product-category/fake-outdoor-plants/', 'https://www.fake-plants.co.uk/product-category/fake-orchid-plant/', 'https://www.fake-plants.co.uk/product-category/fake-monstera-plant/', 'https://www.fake-plants.co.uk/product-category/fake-hydrangea-plant/', 'https://www.fake-plants.co.uk/product-category/fake-fern-plant/', 'https://www.fake-plants.co.uk/product-category/fake-eucalyptus-plant/', 'https://www.fake-plants.co.uk/product-category/fake-dracaena-plant/', 'https://www.fake-plants.co.uk/product-category/fake-caladium-plant/', 'https://www.fake-plants.co.uk/product-category/fake-anthurium-plant/', 'https://www.fake-plants.co.uk/product-category/fake-aloe-vera-plants/', 'https://www.fake-plants.co.uk/product-category/fake-agave-plants/', 'https://www.fake-plants.co.uk/product-category/artificial-wisteria-tree/', 'https://www.fake-plants.co.uk/product-category/artificial-trailing-plants/', 'https://www.fake-plants.co.uk/product-category/artificial-ivy-plants/', 'https://www.fake-plants.co.uk/product-category/artificial-cheese-plant/', 'https://www.fake-plants.co.uk/product-category/artificial-agapanthus-plants/', 'https://www.fake-plants.co.uk/product-category/fake-taro-trees/', 'https://www.fake-plants.co.uk/product-category/fake-spiral-trees/', 'https://www.fake-plants.co.uk/product-category/fake-pyramid-trees/', 'https://www.fake-plants.co.uk/product-category/fake-pineapple-trees/', 'https://www.fake-plants.co.uk/product-category/fake-palm-trees/', 'https://www.fake-plants.co.uk/product-category/fake-orange-tree/', 'https://www.fake-plants.co.uk/product-category/fake-olive-tree/', 'https://www.fake-plants.co.uk/product-category/fake-lemon-tree/', 'https://www.fake-plants.co.uk/product-category/fake-ficus-trees/', 'https://www.fake-plants.co.uk/product-category/fake-evergreen-trees/', 'https://www.fake-plants.co.uk/product-category/fake-cherry-blossom-tree/', 'https://www.fake-plants.co.uk/product-category/fake-boxwood-trees/', 'https://www.fake-plants.co.uk/product-category/artificial-bonsai-trees/', 'https://www.fake-plants.co.uk/product-category/fake-bay-tree/', 'https://www.fake-plants.co.uk/product-category/fake-banyan-trees/', 'https://www.fake-plants.co.uk/product-category/fake-banana-tree/', 'https://www.fake-plants.co.uk/product-category/fake-bamboo-trees/', 'https://www.fake-plants.co.uk/product-category/artificial-topiary-trees/', 'https://www.fake-plants.co.uk/product-category/artificial-maple-tree/', 'https://www.fake-plants.co.uk/product-category/artificial-laurel-tree/', 'https://www.fake-plants.co.uk/product-category/artificial-fir-tree/', 'https://www.fake-plants.co.uk/product-category/artificial-fiddle-fig-leaf-tree/', 'https://www.fake-plants.co.uk/product-category/artificial-cypress-tree/', 'https://www.fake-plants.co.uk/product-category/artificial-conifer-tree/', 'https://www.fake-plants.co.uk/product-category/artificial-cone-tree/', 'https://www.fake-plants.co.uk/product-category/artificial-cedar-trees/', 'https://www.fake-plants.co.uk/product-category/fake-bush/', 'https://www.fake-plants.co.uk/product-category/artificial-grass/', 'https://www.fake-plants.co.uk/product-category/artificial-lillies/', 'https://www.fake-plants.co.uk/product-category/artificial-alstroemeria-flower/']"
   ]
  },
  {
   "cell_type": "code",
   "execution_count": 22,
   "id": "b0b824e1",
   "metadata": {},
   "outputs": [
    {
     "data": {
      "text/plain": [
       "['https://www.fake-plants.co.uk/product-category/fake-yucca-plants/',\n",
       " 'https://www.fake-plants.co.uk/product-category/fake-pyramid-trees/',\n",
       " 'https://www.fake-plants.co.uk/product-category/fake-sansevieria-plant/',\n",
       " 'https://www.fake-plants.co.uk/product-category/fake-spiral-trees/',\n",
       " 'https://www.fake-plants.co.uk/product-category/fake-strelitzia-plant/',\n",
       " 'https://www.fake-plants.co.uk/product-category/fake-taro-trees/',\n",
       " 'https://www.fake-plants.co.uk/product-category/fake-tongue-plant/',\n",
       " 'https://www.fake-plants.co.uk/product-category/fake-strelitzia-plant/',\n",
       " 'https://www.fake-plants.co.uk/product-category/fake-sansevieria-plant/',\n",
       " 'https://www.fake-plants.co.uk/product-category/fake-outdoor-plants/',\n",
       " 'https://www.fake-plants.co.uk/product-category/fake-orchid-plant/',\n",
       " 'https://www.fake-plants.co.uk/product-category/fake-monstera-plant/',\n",
       " 'https://www.fake-plants.co.uk/product-category/fake-hydrangea-plant/',\n",
       " 'https://www.fake-plants.co.uk/product-category/fake-fern-plant/',\n",
       " 'https://www.fake-plants.co.uk/product-category/fake-eucalyptus-plant/',\n",
       " 'https://www.fake-plants.co.uk/product-category/fake-dracaena-plant/',\n",
       " 'https://www.fake-plants.co.uk/product-category/fake-caladium-plant/',\n",
       " 'https://www.fake-plants.co.uk/product-category/fake-anthurium-plant/',\n",
       " 'https://www.fake-plants.co.uk/product-category/fake-aloe-vera-plants/',\n",
       " 'https://www.fake-plants.co.uk/product-category/fake-agave-plants/',\n",
       " 'https://www.fake-plants.co.uk/product-category/artificial-wisteria-tree/',\n",
       " 'https://www.fake-plants.co.uk/product-category/artificial-trailing-plants/',\n",
       " 'https://www.fake-plants.co.uk/product-category/artificial-ivy-plants/',\n",
       " 'https://www.fake-plants.co.uk/product-category/artificial-cheese-plant/',\n",
       " 'https://www.fake-plants.co.uk/product-category/artificial-agapanthus-plants/',\n",
       " 'https://www.fake-plants.co.uk/product-category/fake-taro-trees/',\n",
       " 'https://www.fake-plants.co.uk/product-category/fake-spiral-trees/',\n",
       " 'https://www.fake-plants.co.uk/product-category/fake-pyramid-trees/',\n",
       " 'https://www.fake-plants.co.uk/product-category/fake-pineapple-trees/',\n",
       " 'https://www.fake-plants.co.uk/product-category/fake-palm-trees/',\n",
       " 'https://www.fake-plants.co.uk/product-category/fake-orange-tree/',\n",
       " 'https://www.fake-plants.co.uk/product-category/fake-olive-tree/',\n",
       " 'https://www.fake-plants.co.uk/product-category/fake-lemon-tree/',\n",
       " 'https://www.fake-plants.co.uk/product-category/fake-ficus-trees/',\n",
       " 'https://www.fake-plants.co.uk/product-category/fake-evergreen-trees/',\n",
       " 'https://www.fake-plants.co.uk/product-category/fake-cherry-blossom-tree/',\n",
       " 'https://www.fake-plants.co.uk/product-category/fake-boxwood-trees/',\n",
       " 'https://www.fake-plants.co.uk/product-category/artificial-bonsai-trees/',\n",
       " 'https://www.fake-plants.co.uk/product-category/fake-bay-tree/',\n",
       " 'https://www.fake-plants.co.uk/product-category/fake-banyan-trees/',\n",
       " 'https://www.fake-plants.co.uk/product-category/fake-banana-tree/',\n",
       " 'https://www.fake-plants.co.uk/product-category/fake-bamboo-trees/',\n",
       " 'https://www.fake-plants.co.uk/product-category/artificial-topiary-trees/',\n",
       " 'https://www.fake-plants.co.uk/product-category/artificial-maple-tree/',\n",
       " 'https://www.fake-plants.co.uk/product-category/artificial-laurel-tree/',\n",
       " 'https://www.fake-plants.co.uk/product-category/artificial-fir-tree/',\n",
       " 'https://www.fake-plants.co.uk/product-category/artificial-fiddle-fig-leaf-tree/',\n",
       " 'https://www.fake-plants.co.uk/product-category/artificial-cypress-tree/',\n",
       " 'https://www.fake-plants.co.uk/product-category/artificial-conifer-tree/',\n",
       " 'https://www.fake-plants.co.uk/product-category/artificial-cone-tree/',\n",
       " 'https://www.fake-plants.co.uk/product-category/artificial-cedar-trees/',\n",
       " 'https://www.fake-plants.co.uk/product-category/fake-bush/',\n",
       " 'https://www.fake-plants.co.uk/product-category/artificial-grass/',\n",
       " 'https://www.fake-plants.co.uk/product-category/artificial-lillies/',\n",
       " 'https://www.fake-plants.co.uk/product-category/artificial-alstroemeria-flower/']"
      ]
     },
     "execution_count": 22,
     "metadata": {},
     "output_type": "execute_result"
    }
   ],
   "source": [
    "var"
   ]
  },
  {
   "cell_type": "code",
   "execution_count": 30,
   "id": "d0f55fb0",
   "metadata": {},
   "outputs": [
    {
     "name": "stdout",
     "output_type": "stream",
     "text": [
      "https://www.fake-plants.co.uk/product-category/fake-yucca-plants/\n",
      "1\n",
      "https://www.fake-plants.co.uk/product-category/fake-pyramid-trees/\n",
      "2\n",
      "https://www.fake-plants.co.uk/product-category/fake-sansevieria-plant/\n",
      "3\n",
      "https://www.fake-plants.co.uk/product-category/fake-spiral-trees/\n",
      "4\n",
      "https://www.fake-plants.co.uk/product-category/fake-strelitzia-plant/\n",
      "5\n",
      "https://www.fake-plants.co.uk/product-category/fake-taro-trees/\n",
      "6\n",
      "https://www.fake-plants.co.uk/product-category/fake-tongue-plant/\n",
      "7\n",
      "https://www.fake-plants.co.uk/product-category/fake-strelitzia-plant/\n",
      "again https://www.fake-plants.co.uk/product-category/fake-strelitzia-plant/\n",
      "https://www.fake-plants.co.uk/product-category/fake-sansevieria-plant/\n",
      "again https://www.fake-plants.co.uk/product-category/fake-sansevieria-plant/\n",
      "https://www.fake-plants.co.uk/product-category/fake-outdoor-plants/\n",
      "8\n",
      "https://www.fake-plants.co.uk/product-category/fake-orchid-plant/\n",
      "9\n",
      "https://www.fake-plants.co.uk/product-category/fake-monstera-plant/\n",
      "10\n",
      "https://www.fake-plants.co.uk/product-category/fake-hydrangea-plant/\n",
      "11\n",
      "https://www.fake-plants.co.uk/product-category/fake-fern-plant/\n",
      "12\n",
      "https://www.fake-plants.co.uk/product-category/fake-eucalyptus-plant/\n",
      "13\n",
      "https://www.fake-plants.co.uk/product-category/fake-dracaena-plant/\n",
      "14\n",
      "https://www.fake-plants.co.uk/product-category/fake-caladium-plant/\n",
      "15\n",
      "https://www.fake-plants.co.uk/product-category/fake-anthurium-plant/\n",
      "16\n",
      "https://www.fake-plants.co.uk/product-category/fake-aloe-vera-plants/\n",
      "17\n",
      "https://www.fake-plants.co.uk/product-category/fake-agave-plants/\n",
      "18\n",
      "https://www.fake-plants.co.uk/product-category/artificial-wisteria-tree/\n",
      "19\n",
      "https://www.fake-plants.co.uk/product-category/artificial-trailing-plants/\n",
      "20\n",
      "https://www.fake-plants.co.uk/product-category/artificial-ivy-plants/\n",
      "21\n",
      "https://www.fake-plants.co.uk/product-category/artificial-cheese-plant/\n",
      "22\n",
      "https://www.fake-plants.co.uk/product-category/artificial-agapanthus-plants/\n",
      "23\n",
      "https://www.fake-plants.co.uk/product-category/fake-taro-trees/\n",
      "again https://www.fake-plants.co.uk/product-category/fake-taro-trees/\n",
      "https://www.fake-plants.co.uk/product-category/fake-spiral-trees/\n",
      "again https://www.fake-plants.co.uk/product-category/fake-spiral-trees/\n",
      "https://www.fake-plants.co.uk/product-category/fake-pyramid-trees/\n",
      "again https://www.fake-plants.co.uk/product-category/fake-pyramid-trees/\n",
      "https://www.fake-plants.co.uk/product-category/fake-pineapple-trees/\n",
      "24\n",
      "https://www.fake-plants.co.uk/product-category/fake-palm-trees/\n",
      "25\n",
      "https://www.fake-plants.co.uk/product-category/fake-orange-tree/\n",
      "26\n",
      "https://www.fake-plants.co.uk/product-category/fake-olive-tree/\n",
      "27\n",
      "https://www.fake-plants.co.uk/product-category/fake-lemon-tree/\n",
      "28\n",
      "https://www.fake-plants.co.uk/product-category/fake-ficus-trees/\n",
      "29\n",
      "https://www.fake-plants.co.uk/product-category/fake-evergreen-trees/\n",
      "30\n",
      "https://www.fake-plants.co.uk/product-category/fake-cherry-blossom-tree/\n",
      "31\n",
      "https://www.fake-plants.co.uk/product-category/fake-boxwood-trees/\n",
      "32\n",
      "https://www.fake-plants.co.uk/product-category/artificial-bonsai-trees/\n",
      "33\n",
      "https://www.fake-plants.co.uk/product-category/fake-bay-tree/\n",
      "34\n",
      "https://www.fake-plants.co.uk/product-category/fake-banyan-trees/\n",
      "35\n",
      "https://www.fake-plants.co.uk/product-category/fake-banana-tree/\n",
      "36\n",
      "https://www.fake-plants.co.uk/product-category/fake-bamboo-trees/\n",
      "37\n",
      "https://www.fake-plants.co.uk/product-category/artificial-topiary-trees/\n",
      "38\n",
      "https://www.fake-plants.co.uk/product-category/artificial-maple-tree/\n",
      "39\n",
      "https://www.fake-plants.co.uk/product-category/artificial-laurel-tree/\n",
      "40\n",
      "https://www.fake-plants.co.uk/product-category/artificial-fir-tree/\n",
      "41\n",
      "https://www.fake-plants.co.uk/product-category/artificial-fiddle-fig-leaf-tree/\n",
      "42\n",
      "https://www.fake-plants.co.uk/product-category/artificial-cypress-tree/\n",
      "43\n",
      "https://www.fake-plants.co.uk/product-category/artificial-conifer-tree/\n",
      "44\n",
      "https://www.fake-plants.co.uk/product-category/artificial-cone-tree/\n",
      "45\n",
      "https://www.fake-plants.co.uk/product-category/artificial-cedar-trees/\n",
      "46\n",
      "https://www.fake-plants.co.uk/product-category/fake-bush/\n",
      "47\n",
      "https://www.fake-plants.co.uk/product-category/artificial-grass/\n",
      "48\n",
      "https://www.fake-plants.co.uk/product-category/artificial-lillies/\n",
      "49\n",
      "https://www.fake-plants.co.uk/product-category/artificial-alstroemeria-flower/\n",
      "50\n"
     ]
    }
   ],
   "source": [
    "visited=set()\n",
    "for link in var:\n",
    "    pr=link\n",
    "    print(pr)\n",
    "    if link in visited:\n",
    "        print(\"no need to visit again\",link)\n",
    "        continue\n",
    "    visited.add(link)\n",
    "    print(len(visited))"
   ]
  },
  {
   "cell_type": "code",
   "execution_count": 26,
   "id": "84934966",
   "metadata": {},
   "outputs": [
    {
     "name": "stdout",
     "output_type": "stream",
     "text": [
      "50\n"
     ]
    }
   ],
   "source": [
    "print(len(visited))"
   ]
  },
  {
   "cell_type": "code",
   "execution_count": 27,
   "id": "f920617d",
   "metadata": {},
   "outputs": [
    {
     "data": {
      "text/plain": [
       "55"
      ]
     },
     "execution_count": 27,
     "metadata": {},
     "output_type": "execute_result"
    }
   ],
   "source": [
    "len(var)"
   ]
  },
  {
   "cell_type": "code",
   "execution_count": 36,
   "id": "0625b412",
   "metadata": {},
   "outputs": [],
   "source": [
    "quotes=['/author/Albert-Einstein', '/tag/change/page/1/', '/tag/deep-thoughts/page/1/', '/tag/thinking/page/1/', '/tag/world/page/1/', '/author/J-K-Rowling','/tag/abilities/page/1/', '/tag/choices/page/1/', '/author/Albert-Einstein', '/tag/inspirational/page/1/', '/tag/life/page/1/', '/tag/live/page/1/', '/tag/miracle/page/1/', '/tag/miracles/page/1/', '/author/Jane-Austen', '/tag/aliteracy/page/1/', '/tag/books/page/1/', '/tag/classic/page/1/', \n",
    "'/tag/humor/page/1/', '/author/Marilyn-Monroe', '/tag/be-yourself/page/1/', '/tag/inspirational/page/1/', '/author/Albert-Einstein', '/tag/adulthood/page/1/', '/tag/success/page/1/', '/tag/value/page/1/', '/author/Andre-Gide', '/tag/life/page/1/', '/tag/love/page/1/', '/author/Thomas-A-Edison', '/tag/edison/page/1/', '/tag/failure/page/1/', '/tag/inspirational/page/1/', '/tag/paraphrased/page/1/', '/author/Eleanor-Roosevelt', '/tag/misattributed-eleanor-roosevelt/page/1/', '/author/Steve-Martin', '/tag/humor/page/1/', '/tag/obvious/page/1/', '/tag/simile/page/1/']\n"
   ]
  },
  {
   "cell_type": "code",
   "execution_count": 37,
   "id": "37b454b2",
   "metadata": {},
   "outputs": [
    {
     "data": {
      "text/plain": [
       "40"
      ]
     },
     "execution_count": 37,
     "metadata": {},
     "output_type": "execute_result"
    }
   ],
   "source": [
    "len(quotes)"
   ]
  },
  {
   "cell_type": "code",
   "execution_count": 38,
   "id": "c2920033",
   "metadata": {},
   "outputs": [],
   "source": [
    "visited=set(quotes)"
   ]
  },
  {
   "cell_type": "code",
   "execution_count": 39,
   "id": "03b2a2fb",
   "metadata": {},
   "outputs": [
    {
     "data": {
      "text/plain": [
       "34"
      ]
     },
     "execution_count": 39,
     "metadata": {},
     "output_type": "execute_result"
    }
   ],
   "source": [
    "len(visited)"
   ]
  },
  {
   "cell_type": "code",
   "execution_count": 40,
   "id": "e859fbdd",
   "metadata": {},
   "outputs": [
    {
     "name": "stdout",
     "output_type": "stream",
     "text": [
      "/author/Albert-Einstein\n",
      "1\n",
      "/tag/change/page/1/\n",
      "2\n",
      "/tag/deep-thoughts/page/1/\n",
      "3\n",
      "/tag/thinking/page/1/\n",
      "4\n",
      "/tag/world/page/1/\n",
      "5\n",
      "/author/J-K-Rowling\n",
      "6\n",
      "/tag/abilities/page/1/\n",
      "7\n",
      "/tag/choices/page/1/\n",
      "8\n",
      "/author/Albert-Einstein\n",
      "no need to visit again /author/Albert-Einstein\n",
      "/tag/inspirational/page/1/\n",
      "9\n",
      "/tag/life/page/1/\n",
      "10\n",
      "/tag/live/page/1/\n",
      "11\n",
      "/tag/miracle/page/1/\n",
      "12\n",
      "/tag/miracles/page/1/\n",
      "13\n",
      "/author/Jane-Austen\n",
      "14\n",
      "/tag/aliteracy/page/1/\n",
      "15\n",
      "/tag/books/page/1/\n",
      "16\n",
      "/tag/classic/page/1/\n",
      "17\n",
      "/tag/humor/page/1/\n",
      "18\n",
      "/author/Marilyn-Monroe\n",
      "19\n",
      "/tag/be-yourself/page/1/\n",
      "20\n",
      "/tag/inspirational/page/1/\n",
      "no need to visit again /tag/inspirational/page/1/\n",
      "/author/Albert-Einstein\n",
      "no need to visit again /author/Albert-Einstein\n",
      "/tag/adulthood/page/1/\n",
      "21\n",
      "/tag/success/page/1/\n",
      "22\n",
      "/tag/value/page/1/\n",
      "23\n",
      "/author/Andre-Gide\n",
      "24\n",
      "/tag/life/page/1/\n",
      "no need to visit again /tag/life/page/1/\n",
      "/tag/love/page/1/\n",
      "25\n",
      "/author/Thomas-A-Edison\n",
      "26\n",
      "/tag/edison/page/1/\n",
      "27\n",
      "/tag/failure/page/1/\n",
      "28\n",
      "/tag/inspirational/page/1/\n",
      "no need to visit again /tag/inspirational/page/1/\n",
      "/tag/paraphrased/page/1/\n",
      "29\n",
      "/author/Eleanor-Roosevelt\n",
      "30\n",
      "/tag/misattributed-eleanor-roosevelt/page/1/\n",
      "31\n",
      "/author/Steve-Martin\n",
      "32\n",
      "/tag/humor/page/1/\n",
      "no need to visit again /tag/humor/page/1/\n",
      "/tag/obvious/page/1/\n",
      "33\n",
      "/tag/simile/page/1/\n",
      "34\n"
     ]
    }
   ],
   "source": [
    "visited=set()\n",
    "for link in quotes:\n",
    "    pr=link\n",
    "    print(pr)\n",
    "    if link in visited:\n",
    "        print(\"no need to visit again\",link)\n",
    "        continue\n",
    "    visited.add(link)\n",
    "    print(len(visited))"
   ]
  },
  {
   "cell_type": "code",
   "execution_count": null,
   "id": "aae24be5",
   "metadata": {},
   "outputs": [],
   "source": [
    " __init__(self, url: str, callback: Optional[Callable] = None, method: str = 'GET', headers: Optional[dict] = None, body: Union[bytes, str, NoneT\n",
    "ype] = None, cookies: Union[dict, List[dict], NoneType] = None, meta: Optional[dict] = None, encoding: str = 'utf-8', priority: int = 0, dont_filter\n",
    ": bool = False, errback: Optional[Callable] = None, flags: Optional[List[str]] = None, cb_kwargs: Optional[dict] = None)"
   ]
  },
  {
   "cell_type": "code",
   "execution_count": 42,
   "id": "8f3f8396",
   "metadata": {},
   "outputs": [],
   "source": [
    "new=['<div class=\"quote\" itemscope itemtype=\"http://schema.org/CreativeWork\">\\n        <span class=\"text\" itemprop=\"text\">“The world as we have created it is a process of our thinking. It cannot be changed without changing our thinking.”</span>\\n        <span>by <small class=\"author\" itemprop=\"author\">Albert Einstein</small>\\n        <a href=\"/author/Albert-Einstein\">(about)</a>\\n        </span>\\n        <div class=\"tags\">\\n            Tags:\\n            <meta class=\"keywords\" itemprop=\"keywords\" content=\"change,deep-thoughts,thinking,world\"> \\n            \\n            <a class=\"tag\" href=\"/tag/change/page/1/\">change</a>\\n            \\n            <a class=\"tag\" href=\"/tag/deep-thoughts/page/1/\">deep-thoughts</a>\\n            \\n            <a class=\"tag\" href=\"/tag/thinking/page/1/\">thinking</a>\\n            \\n            <a class=\"tag\" href=\"/tag/world/page/1/\">world</a>\\n            \\n        </div>\\n    </div>']"
   ]
  },
  {
   "cell_type": "code",
   "execution_count": 44,
   "id": "11bb5c31",
   "metadata": {},
   "outputs": [
    {
     "name": "stdout",
     "output_type": "stream",
     "text": [
      "<div class=\"quote\" itemscope itemtype=\"http://schema.org/CreativeWork\">\n",
      "        <span class=\"text\" itemprop=\"text\">“The world as we have created it is a process of our thinking. It cannot be changed without changing our thinking.”</span>\n",
      "        <span>by <small class=\"author\" itemprop=\"author\">Albert Einstein</small>\n",
      "        <a href=\"/author/Albert-Einstein\">(about)</a>\n",
      "        </span>\n",
      "        <div class=\"tags\">\n",
      "            Tags:\n",
      "            <meta class=\"keywords\" itemprop=\"keywords\" content=\"change,deep-thoughts,thinking,world\"> \n",
      "            \n",
      "            <a class=\"tag\" href=\"/tag/change/page/1/\">change</a>\n",
      "            \n",
      "            <a class=\"tag\" href=\"/tag/deep-thoughts/page/1/\">deep-thoughts</a>\n",
      "            \n",
      "            <a class=\"tag\" href=\"/tag/thinking/page/1/\">thinking</a>\n",
      "            \n",
      "            <a class=\"tag\" href=\"/tag/world/page/1/\">world</a>\n",
      "            \n",
      "        </div>\n",
      "    </div>\n"
     ]
    }
   ],
   "source": [
    "for qoute in new:\n",
    "    print(n)"
   ]
  },
  {
   "cell_type": "code",
   "execution_count": null,
   "id": "f4985eac",
   "metadata": {},
   "outputs": [],
   "source": []
  }
 ],
 "metadata": {
  "kernelspec": {
   "display_name": "Python 3 (ipykernel)",
   "language": "python",
   "name": "python3"
  },
  "language_info": {
   "codemirror_mode": {
    "name": "ipython",
    "version": 3
   },
   "file_extension": ".py",
   "mimetype": "text/x-python",
   "name": "python",
   "nbconvert_exporter": "python",
   "pygments_lexer": "ipython3",
   "version": "3.9.13"
  }
 },
 "nbformat": 4,
 "nbformat_minor": 5
}
